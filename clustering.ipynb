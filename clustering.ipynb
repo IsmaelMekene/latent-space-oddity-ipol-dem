{
  "cells": [
    {
      "cell_type": "code",
      "execution_count": 1,
      "metadata": {
        "colab": {
          "base_uri": "https://localhost:8080/"
        },
        "id": "CgVAUliNxZht",
        "outputId": "5f5cff56-5665-461a-ca1b-9a2549d09764"
      },
      "outputs": [
        {
          "output_type": "stream",
          "name": "stdout",
          "text": [
            "Cloning into 'geometric_ml'...\n",
            "remote: Enumerating objects: 102, done.\u001b[K\n",
            "remote: Counting objects: 100% (43/43), done.\u001b[K\n",
            "remote: Compressing objects: 100% (34/34), done.\u001b[K\n",
            "remote: Total 102 (delta 11), reused 40 (delta 8), pack-reused 59\u001b[K\n",
            "Receiving objects: 100% (102/102), 348.01 KiB | 21.75 MiB/s, done.\n",
            "Resolving deltas: 100% (14/14), done.\n"
          ]
        }
      ],
      "source": [
        "!git clone https://github.com/georgiosarvanitidis/geometric_ml.git"
      ]
    },
    {
      "cell_type": "code",
      "execution_count": 2,
      "metadata": {
        "colab": {
          "base_uri": "https://localhost:8080/"
        },
        "id": "h89rOAwd8r5d",
        "outputId": "19c4e54d-ae27-4840-dc53-197e96257742"
      },
      "outputs": [
        {
          "output_type": "stream",
          "name": "stdout",
          "text": [
            "Looking in indexes: https://pypi.org/simple, https://us-python.pkg.dev/colab-wheels/public/simple/\n",
            "Collecting scikit-learn-extra\n",
            "  Downloading scikit_learn_extra-0.2.0-cp38-cp38-manylinux2010_x86_64.whl (1.9 MB)\n",
            "\u001b[2K     \u001b[90m━━━━━━━━━━━━━━━━━━━━━━━━━━━━━━━━━━━━━━━━\u001b[0m \u001b[32m1.9/1.9 MB\u001b[0m \u001b[31m70.8 MB/s\u001b[0m eta \u001b[36m0:00:00\u001b[0m\n",
            "\u001b[?25hRequirement already satisfied: numpy>=1.13.3 in /usr/local/lib/python3.8/dist-packages (from scikit-learn-extra) (1.22.4)\n",
            "Requirement already satisfied: scikit-learn>=0.23.0 in /usr/local/lib/python3.8/dist-packages (from scikit-learn-extra) (1.2.1)\n",
            "Requirement already satisfied: scipy>=0.19.1 in /usr/local/lib/python3.8/dist-packages (from scikit-learn-extra) (1.10.1)\n",
            "Requirement already satisfied: joblib>=1.1.1 in /usr/local/lib/python3.8/dist-packages (from scikit-learn>=0.23.0->scikit-learn-extra) (1.2.0)\n",
            "Requirement already satisfied: threadpoolctl>=2.0.0 in /usr/local/lib/python3.8/dist-packages (from scikit-learn>=0.23.0->scikit-learn-extra) (3.1.0)\n",
            "Installing collected packages: scikit-learn-extra\n",
            "Successfully installed scikit-learn-extra-0.2.0\n"
          ]
        }
      ],
      "source": [
        "!pip install scikit-learn-extra"
      ]
    },
    {
      "cell_type": "code",
      "execution_count": 3,
      "metadata": {
        "colab": {
          "base_uri": "https://localhost:8080/"
        },
        "id": "fSf30st1xgK8",
        "outputId": "a9f91d1b-0a1c-47e3-c03d-3c12953bb97f"
      },
      "outputs": [
        {
          "output_type": "stream",
          "name": "stdout",
          "text": [
            "\u001b[0m\u001b[01;34mgeometric_ml\u001b[0m/  \u001b[01;34msample_data\u001b[0m/\n"
          ]
        }
      ],
      "source": [
        "ls"
      ]
    },
    {
      "cell_type": "code",
      "execution_count": 4,
      "metadata": {
        "colab": {
          "base_uri": "https://localhost:8080/"
        },
        "id": "CZkV1kE0yk1C",
        "outputId": "30acf1e2-47e7-4528-ae3c-fc2c2e8c4e6d"
      },
      "outputs": [
        {
          "output_type": "stream",
          "name": "stdout",
          "text": [
            "/content/geometric_ml\n"
          ]
        }
      ],
      "source": [
        "cd geometric_ml/"
      ]
    },
    {
      "cell_type": "code",
      "execution_count": 5,
      "metadata": {
        "id": "xeNLmuIU8ts1"
      },
      "outputs": [],
      "source": [
        "import sklearn_extra\n",
        "from sklearn_extra.cluster import KMedoids"
      ]
    },
    {
      "cell_type": "code",
      "execution_count": 9,
      "metadata": {
        "id": "wShU7PryyACg"
      },
      "outputs": [],
      "source": [
        "import numpy as np\n",
        "import torch\n",
        "import torch.nn as nn\n",
        "from python.core import utils, generative_models, manifolds, geodesics\n",
        "import matplotlib.pyplot as plt\n",
        "import gc\n",
        "from sklearn.cluster import KMeans\n",
        "from sklearn.metrics import pairwise_distances\n",
        "\n",
        "import plotly.graph_objects as go\n",
        "\n",
        "from tqdm import tqdm\n"
      ]
    },
    {
      "cell_type": "code",
      "execution_count": 9,
      "metadata": {
        "id": "YishvGH46hwk"
      },
      "outputs": [],
      "source": []
    },
    {
      "cell_type": "code",
      "execution_count": 10,
      "metadata": {
        "id": "gjkddCJ4BY-_"
      },
      "outputs": [],
      "source": [
        "params = {'N': 170, 'data_type': 3, 'sigma': 0.1, 'extra_dims': 2, 'r':1}\n",
        "data, labels = utils.generate_data(params)"
      ]
    },
    {
      "cell_type": "code",
      "execution_count": 11,
      "metadata": {
        "colab": {
          "base_uri": "https://localhost:8080/"
        },
        "id": "DG0u6AH_DLhZ",
        "outputId": "6faf2af9-4c66-4f79-e438-60db5fd28197"
      },
      "outputs": [
        {
          "output_type": "execute_result",
          "data": {
            "text/plain": [
              "(170, 5)"
            ]
          },
          "metadata": {},
          "execution_count": 11
        }
      ],
      "source": [
        "data.shape\n",
        "#utils.my_plot(data)"
      ]
    },
    {
      "cell_type": "code",
      "execution_count": 12,
      "metadata": {
        "colab": {
          "base_uri": "https://localhost:8080/",
          "height": 542
        },
        "id": "U95MopYM6nzo",
        "outputId": "94c5b953-4367-4ee2-f88d-91f433a0a144"
      },
      "outputs": [
        {
          "output_type": "display_data",
          "data": {
            "text/html": [
              "<html>\n",
              "<head><meta charset=\"utf-8\" /></head>\n",
              "<body>\n",
              "    <div>            <script src=\"https://cdnjs.cloudflare.com/ajax/libs/mathjax/2.7.5/MathJax.js?config=TeX-AMS-MML_SVG\"></script><script type=\"text/javascript\">if (window.MathJax) {MathJax.Hub.Config({SVG: {font: \"STIX-Web\"}});}</script>                <script type=\"text/javascript\">window.PlotlyConfig = {MathJaxConfig: 'local'};</script>\n",
              "        <script src=\"https://cdn.plot.ly/plotly-2.8.3.min.js\"></script>                <div id=\"c8696883-38e4-4b86-addd-596bdfc3de91\" class=\"plotly-graph-div\" style=\"height:525px; width:100%;\"></div>            <script type=\"text/javascript\">                                    window.PLOTLYENV=window.PLOTLYENV || {};                                    if (document.getElementById(\"c8696883-38e4-4b86-addd-596bdfc3de91\")) {                    Plotly.newPlot(                        \"c8696883-38e4-4b86-addd-596bdfc3de91\",                        [{\"marker\":{\"color\":[-0.4133849256592076,-0.5896412512748153,0.41293170127103684,-0.33730026258441115,0.04065901924909174,0.4578503726168875,-0.3637192723107978,0.5960412256922408,0.09293781097387484,0.4336918343991397,0.4969102505674056,0.09719826930933727,0.38673358676230324,0.12869713987346748,0.4375002981970283,-0.386668109666478,-0.5008189551680715,-0.39412658940974943,-0.22076437913016847,-0.24671574937725477,-0.44364331181365374,0.382820172208126,-0.0706240553071099,-0.44774891514747694,0.14728535008851754,-0.20665797698942884,0.5000415116338409,0.441170969705667,0.11909848835986961,0.36275335557235766,-0.042149142730978126,-0.04255674850736711,0.27946995861595986,0.5038188829183348,-0.3045673438491785,0.43698361821760956,0.40237018028108057,0.526008035398442,0.23831049631735834,0.23330814056551377,-0.24894258085167273,0.5076355130685909,0.5292134066192656,-0.2626353040493237,-0.5577014923639891,-0.5592585407724673,0.4753917201965495,0.27202784551940945,0.015975621589237734,-0.4759892393703325,-0.38809631554756163,0.20093292520385336,-0.16830010536475498,0.5206316544254285,0.3437766786950728,0.3116109509463166,0.5691537050213513,-0.11418295741213853,-0.11127164564595482,0.42188512846130277,0.39160616324441094,-0.4783016114856335,0.2537661394574705,-0.5350010567131933,0.3760349670112116,0.5656418436043527,0.11341505862387272,0.4927920883205333,0.42307213998928483,0.445590199016245,-0.38345100429442897,0.04168880171326958,0.20230896984524283,0.07223133977756149,0.4728376736230182,0.30828349414271455,0.021019900224268757,0.04177779293450033,0.18780347759575303,-0.15366045657282176,-0.5858969192287722,0.012613346051250252,0.4847186422146026,-0.31763543620537227,-0.5852044645717343,0.4328852914251028,0.4595023775845116,-0.5339257542341957,0.5036542897131917,-0.05954733676042701,-0.5027605456745056,0.4400761220820864,-0.5743418802082093,-0.10887187164069169,-0.4710923891944796,-0.49949130844957684,-0.10355295622711214,-0.47496073601276323,0.06205366027330249,-0.43648623217815014,0.05233133813976185,0.4844788167455677,0.21173961928502294,0.08489501250085384,0.3355916357510532,0.5921658875841194,-0.3846478422850318,0.02405298931588168,0.4509961735827256,-0.2042174472760491,0.12606372775519337,-0.4662933510706027,-0.3494701629898934,-0.33911876585390965,-0.4581080167689976,0.030623652166712905,-0.17911278010018553,-0.5091342504070485,-0.36786831127275993,0.18475018514775154,-0.4526693758988846,-0.338777556532657,-0.23557199095165154,-0.2186328260512787,-0.4432593433044007,0.31156534833270655,-0.4243642370213844,-0.32597001584953966,0.39783162106348036,0.46410574139743804,0.5564206452811059,-0.4903916596174264,-0.4749925668538176,-0.3984258402090486,0.38171470028927773,0.5264421456035189,-0.042610724104777314,-0.2335317060558685,-0.5342173786110851,-0.028088170647758603,-0.37380464135972635,-0.47452959090648317,0.2973086824168733,0.20723316626835134,-0.33528517010048403,-0.537749962516773,0.4498963972078095,-0.2185178495832947,0.2906001115140354,-0.23500501221132875,-0.41968068173738743,-0.1942954701565571,-0.23731145165245532,-0.39189660176820884,-0.49993580606765387,0.48548894033346107,-0.18084250000985508,-0.5264631768949322,-0.10333686089280039,-0.4260899482938746,-0.4166518692442436,-0.17499068204978258,-0.419990785565944,-0.4527377031198363,0.09361468448927238,0.3693561406502989,0.2275865960962582,-0.4725390554420103,0.32126073478687617,0.32160925011048025],\"colorscale\":[[0.0,\"#440154\"],[0.1111111111111111,\"#482878\"],[0.2222222222222222,\"#3e4989\"],[0.3333333333333333,\"#31688e\"],[0.4444444444444444,\"#26828e\"],[0.5555555555555556,\"#1f9e89\"],[0.6666666666666666,\"#35b779\"],[0.7777777777777778,\"#6ece58\"],[0.8888888888888888,\"#b5de2b\"],[1.0,\"#fde725\"]],\"opacity\":0.8,\"size\":4},\"mode\":\"markers\",\"x\":[-0.1901315882856064,-0.4190867074353839,0.26863763637080057,-0.3504753975380253,-0.01953759985627329,0.40082147887209346,-0.7622769402127165,-1.5250973240357735,-0.005113044451791726,-1.3272837427075619,0.5376491210531211,0.07119517383536994,0.21237152247860064,-1.0110093718642537,-1.33555187669807,-0.7553783786380025,-0.42822286390891356,-0.6261252235364594,-0.13664125702724966,-0.8489425006699363,-0.438736925328212,-1.2555376360664912,-0.9453524097079045,-0.6673918556513471,0.1114938014903723,-0.9020500671850267,-1.4774229286675977,-1.349582047999647,0.14245958785145235,-1.1762426502300913,0.0274413851644717,-0.01629099612559981,0.20925340327045644,-1.5155625290474968,-0.786365244473308,-1.4178980103009537,0.2574081533236971,-1.516662015398997,0.1176240195000306,-1.1698039589285654,-0.8475482998386987,0.5336565423501025,0.5732907644536267,-0.8319706137677363,-0.605233854742302,-0.5418478951102634,0.5915640461817149,0.2402927841598897,0.010450412562995781,-0.6317092014833282,-0.6099915092272185,-1.1001563205430613,-0.1265865477041631,0.5233438411006972,0.24707084664853612,-1.3283322422030324,0.4847989308831558,-0.8846924669129528,-0.10888588236482893,-1.354220422755645,0.30597548559364834,-0.48589572167168027,-1.1210692092178067,-0.5746808886658168,-1.2374921393078413,0.49864423144493847,-1.0363921615461273,0.3899786165644125,0.31361933102538603,-1.3732991281422853,-0.28524897812755456,-1.0797795134499826,-1.1977790676994353,-1.0916180723669426,-1.4909086942140852,-1.1758247337233432,0.0025615316403929667,0.003725155049775608,-1.1442442820211363,-0.06047197097284518,-0.5361338559149698,-0.0027488552923908283,-1.3888718026811075,-0.8395871877558874,-0.4898141787796571,0.7812496081248841,0.5002342742354047,1.4269200400784456,0.6397935772845196,1.0443148469274253,1.549817869474986,0.33485863957267,-0.4873327208438652,1.0646071410944173,-0.4121246934553972,1.4658875136000822,1.0487909040700016,1.4084409288915478,0.05205653848687147,-0.42895134951882935,0.03733662727198006,0.4227258049045169,0.12747803013562303,0.9231814711438595,0.3239442135594333,0.5785461122892483,-0.24761251467681636,0.023151796668981872,0.3997384513451672,1.0988373447585364,0.0659893442121498,-0.341908926951511,-0.2910203200771735,1.2750045750114822,-0.5141214972209847,0.9675738341889564,1.0895175566477264,1.3875532379530473,-0.3061083128778973,0.09214910443180063,-0.635900653441487,1.2103482168010815,-0.2501611769179873,1.1021310899210526,-0.3031742373243829,0.24195410229718844,1.3331260844565083,1.3089782917199322,0.26185815775412485,0.35509390099962684,0.4915730766676661,1.5878845906402221,1.3365574660746462,1.332896243914006,0.34379726822180795,0.47873167165769076,-0.1003410332977846,1.1426941466864895,1.4675815388416982,1.0284532630840417,-0.4229917976475674,1.4202675854096534,0.21157575922758948,0.8663633743365426,-0.21117051386577784,1.5501620465600905,0.6838102181495616,-0.1355108604838306,0.26389756666879854,-0.12702582459232548,1.527466900502838,-0.10084753608061209,1.1840095574377176,1.6110838308559943,-0.4359305000257921,0.6441225027108113,-0.1568206476470096,-0.3009809444524764,-0.08895839274681061,-0.4061656743499951,-0.2304087887247912,1.0617155230026813,1.3984746803068329,-0.34112771803819947,0.9631502139822059,0.25140390940883967,0.859111041578841,-0.5223157795067389,0.24888191792242836,0.783638277914696],\"y\":[0.6691385817999624,1.0211132662026203,0.23396117590995202,0.9779574947143843,0.9703836656871565,0.15289843549175292,0.7023901022540895,-0.18419507521135448,0.7137993730780248,0.3084391655162671,-0.18309298319788364,0.8151196172160033,0.7417994880812824,0.8526615406416866,0.2644554819581633,0.9290942595027769,0.7695874321498442,0.8730242758624089,0.8217953128142332,0.9142112476999862,0.6724616966911949,0.3995296780583852,0.7049400702662507,0.8422213218166184,0.7909983341679443,0.8599055938799782,0.17346745128493407,0.5854721587406164,0.5690768922724883,-0.11844235505870068,0.7978359555046282,0.7918051796750429,0.36369723672769677,0.07763726950770483,0.8896729717634566,-0.12146901577293799,0.6045484368954188,0.32175408497601965,0.6442175470999609,0.47982461762637124,0.8238613654665146,0.3136576986300716,0.2852819345586161,0.7959260587995125,0.8745616628598898,0.7941663233613312,-0.06381324196488,0.6008597917359497,0.6421898405171813,0.9673548950132713,0.818341338222158,0.7868318229750111,0.7112767124004862,-0.08318063042686738,0.8925745481315512,0.2143228255967956,0.6849932699413841,0.9830454119192293,0.6768403223922883,0.4989781849802392,0.4684850850096694,0.8873993859607263,0.6262958011346582,0.9780671066886393,0.3908773523092958,-0.19947918137685838,0.6082632356168747,0.28291590709497033,0.48481924629311307,0.4427101779202643,0.8366096713597355,0.5559506988073313,0.5618016481293782,0.4061641319320079,0.10187980394222618,0.44939308309479725,0.6775917050971894,0.6711444335418886,0.7267182283568512,0.7080787947225138,0.7692583056348175,0.7249440806292777,0.04211142523110756,0.7888074923659203,0.9642018611858745,-1.051682393725728,-0.7396863073272488,-0.23115602326674117,-0.9603031371243693,-0.9003318528588071,-0.03284503969730926,-0.5923457552135738,0.09485192346385535,-0.8841823657274512,-0.005036416783425479,-0.07517885636161056,-0.7636298840851525,-0.4007544188617939,-0.5027051795813836,-0.4786765930701188,-0.653264058751849,-0.9152016131139371,-0.8011619742520404,-0.9539731096125308,-0.8326268284730702,-0.8710134526859872,-0.7171262419056896,-0.5538386674216654,-0.665803412609604,-0.7977521554946034,-0.8340123104189974,-0.09609787069133155,-0.5299252164654846,-0.6424401324576343,-0.10514417888869534,-0.8436647677526818,-0.675732320349137,-0.6512405528486227,-0.0968605648122219,-0.6524379990560587,0.1735124024055852,-0.4629459047902212,-0.39236305227153134,-0.6956119016572697,-0.5736655325066761,-0.8054442531814565,-0.2913299143040269,-0.5112528643451038,-0.8068225640593873,-0.8212273909732362,-0.8048884812102715,0.01553709697464134,-0.3753167436151013,-0.7636981732029569,-0.777514491076789,-0.7470016383315374,-0.7401765313874893,-0.7413314052261328,0.14574208673132383,-0.709661516329904,-0.4760974872018713,-0.3239382459367026,-0.8789226374074124,-0.7142743944412817,-0.4636145250318237,-0.5372470050414988,-0.961216983704982,-0.6295223697196652,-0.8967962733706571,-0.5474475354146622,0.1987332135172752,-0.5524633496317832,-0.5897158450204714,-0.30101168354862523,-0.2761571338404457,-0.954687736136921,-0.44643687627023804,-0.3962793483525959,-0.4380765103715865,-0.09857414527791078,-0.7642314976118199,-0.8744743947949374,-0.8119728244172657,-0.8370478903650804,-0.7909279665392384,-0.8090942106869026,-0.952307023570012,0.05895108217461725,-0.7806591826038591,-0.9228253188278566],\"z\":[-0.4133849256592076,-0.5896412512748153,0.41293170127103684,-0.33730026258441115,0.04065901924909174,0.4578503726168875,-0.3637192723107978,0.5960412256922408,0.09293781097387484,0.4336918343991397,0.4969102505674056,0.09719826930933727,0.38673358676230324,0.12869713987346748,0.4375002981970283,-0.386668109666478,-0.5008189551680715,-0.39412658940974943,-0.22076437913016847,-0.24671574937725477,-0.44364331181365374,0.382820172208126,-0.0706240553071099,-0.44774891514747694,0.14728535008851754,-0.20665797698942884,0.5000415116338409,0.441170969705667,0.11909848835986961,0.36275335557235766,-0.042149142730978126,-0.04255674850736711,0.27946995861595986,0.5038188829183348,-0.3045673438491785,0.43698361821760956,0.40237018028108057,0.526008035398442,0.23831049631735834,0.23330814056551377,-0.24894258085167273,0.5076355130685909,0.5292134066192656,-0.2626353040493237,-0.5577014923639891,-0.5592585407724673,0.4753917201965495,0.27202784551940945,0.015975621589237734,-0.4759892393703325,-0.38809631554756163,0.20093292520385336,-0.16830010536475498,0.5206316544254285,0.3437766786950728,0.3116109509463166,0.5691537050213513,-0.11418295741213853,-0.11127164564595482,0.42188512846130277,0.39160616324441094,-0.4783016114856335,0.2537661394574705,-0.5350010567131933,0.3760349670112116,0.5656418436043527,0.11341505862387272,0.4927920883205333,0.42307213998928483,0.445590199016245,-0.38345100429442897,0.04168880171326958,0.20230896984524283,0.07223133977756149,0.4728376736230182,0.30828349414271455,0.021019900224268757,0.04177779293450033,0.18780347759575303,-0.15366045657282176,-0.5858969192287722,0.012613346051250252,0.4847186422146026,-0.31763543620537227,-0.5852044645717343,0.4328852914251028,0.4595023775845116,-0.5339257542341957,0.5036542897131917,-0.05954733676042701,-0.5027605456745056,0.4400761220820864,-0.5743418802082093,-0.10887187164069169,-0.4710923891944796,-0.49949130844957684,-0.10355295622711214,-0.47496073601276323,0.06205366027330249,-0.43648623217815014,0.05233133813976185,0.4844788167455677,0.21173961928502294,0.08489501250085384,0.3355916357510532,0.5921658875841194,-0.3846478422850318,0.02405298931588168,0.4509961735827256,-0.2042174472760491,0.12606372775519337,-0.4662933510706027,-0.3494701629898934,-0.33911876585390965,-0.4581080167689976,0.030623652166712905,-0.17911278010018553,-0.5091342504070485,-0.36786831127275993,0.18475018514775154,-0.4526693758988846,-0.338777556532657,-0.23557199095165154,-0.2186328260512787,-0.4432593433044007,0.31156534833270655,-0.4243642370213844,-0.32597001584953966,0.39783162106348036,0.46410574139743804,0.5564206452811059,-0.4903916596174264,-0.4749925668538176,-0.3984258402090486,0.38171470028927773,0.5264421456035189,-0.042610724104777314,-0.2335317060558685,-0.5342173786110851,-0.028088170647758603,-0.37380464135972635,-0.47452959090648317,0.2973086824168733,0.20723316626835134,-0.33528517010048403,-0.537749962516773,0.4498963972078095,-0.2185178495832947,0.2906001115140354,-0.23500501221132875,-0.41968068173738743,-0.1942954701565571,-0.23731145165245532,-0.39189660176820884,-0.49993580606765387,0.48548894033346107,-0.18084250000985508,-0.5264631768949322,-0.10333686089280039,-0.4260899482938746,-0.4166518692442436,-0.17499068204978258,-0.419990785565944,-0.4527377031198363,0.09361468448927238,0.3693561406502989,0.2275865960962582,-0.4725390554420103,0.32126073478687617,0.32160925011048025],\"type\":\"scatter3d\"}],                        {\"template\":{\"data\":{\"bar\":[{\"error_x\":{\"color\":\"#2a3f5f\"},\"error_y\":{\"color\":\"#2a3f5f\"},\"marker\":{\"line\":{\"color\":\"#E5ECF6\",\"width\":0.5},\"pattern\":{\"fillmode\":\"overlay\",\"size\":10,\"solidity\":0.2}},\"type\":\"bar\"}],\"barpolar\":[{\"marker\":{\"line\":{\"color\":\"#E5ECF6\",\"width\":0.5},\"pattern\":{\"fillmode\":\"overlay\",\"size\":10,\"solidity\":0.2}},\"type\":\"barpolar\"}],\"carpet\":[{\"aaxis\":{\"endlinecolor\":\"#2a3f5f\",\"gridcolor\":\"white\",\"linecolor\":\"white\",\"minorgridcolor\":\"white\",\"startlinecolor\":\"#2a3f5f\"},\"baxis\":{\"endlinecolor\":\"#2a3f5f\",\"gridcolor\":\"white\",\"linecolor\":\"white\",\"minorgridcolor\":\"white\",\"startlinecolor\":\"#2a3f5f\"},\"type\":\"carpet\"}],\"choropleth\":[{\"colorbar\":{\"outlinewidth\":0,\"ticks\":\"\"},\"type\":\"choropleth\"}],\"contour\":[{\"colorbar\":{\"outlinewidth\":0,\"ticks\":\"\"},\"colorscale\":[[0.0,\"#0d0887\"],[0.1111111111111111,\"#46039f\"],[0.2222222222222222,\"#7201a8\"],[0.3333333333333333,\"#9c179e\"],[0.4444444444444444,\"#bd3786\"],[0.5555555555555556,\"#d8576b\"],[0.6666666666666666,\"#ed7953\"],[0.7777777777777778,\"#fb9f3a\"],[0.8888888888888888,\"#fdca26\"],[1.0,\"#f0f921\"]],\"type\":\"contour\"}],\"contourcarpet\":[{\"colorbar\":{\"outlinewidth\":0,\"ticks\":\"\"},\"type\":\"contourcarpet\"}],\"heatmap\":[{\"colorbar\":{\"outlinewidth\":0,\"ticks\":\"\"},\"colorscale\":[[0.0,\"#0d0887\"],[0.1111111111111111,\"#46039f\"],[0.2222222222222222,\"#7201a8\"],[0.3333333333333333,\"#9c179e\"],[0.4444444444444444,\"#bd3786\"],[0.5555555555555556,\"#d8576b\"],[0.6666666666666666,\"#ed7953\"],[0.7777777777777778,\"#fb9f3a\"],[0.8888888888888888,\"#fdca26\"],[1.0,\"#f0f921\"]],\"type\":\"heatmap\"}],\"heatmapgl\":[{\"colorbar\":{\"outlinewidth\":0,\"ticks\":\"\"},\"colorscale\":[[0.0,\"#0d0887\"],[0.1111111111111111,\"#46039f\"],[0.2222222222222222,\"#7201a8\"],[0.3333333333333333,\"#9c179e\"],[0.4444444444444444,\"#bd3786\"],[0.5555555555555556,\"#d8576b\"],[0.6666666666666666,\"#ed7953\"],[0.7777777777777778,\"#fb9f3a\"],[0.8888888888888888,\"#fdca26\"],[1.0,\"#f0f921\"]],\"type\":\"heatmapgl\"}],\"histogram\":[{\"marker\":{\"pattern\":{\"fillmode\":\"overlay\",\"size\":10,\"solidity\":0.2}},\"type\":\"histogram\"}],\"histogram2d\":[{\"colorbar\":{\"outlinewidth\":0,\"ticks\":\"\"},\"colorscale\":[[0.0,\"#0d0887\"],[0.1111111111111111,\"#46039f\"],[0.2222222222222222,\"#7201a8\"],[0.3333333333333333,\"#9c179e\"],[0.4444444444444444,\"#bd3786\"],[0.5555555555555556,\"#d8576b\"],[0.6666666666666666,\"#ed7953\"],[0.7777777777777778,\"#fb9f3a\"],[0.8888888888888888,\"#fdca26\"],[1.0,\"#f0f921\"]],\"type\":\"histogram2d\"}],\"histogram2dcontour\":[{\"colorbar\":{\"outlinewidth\":0,\"ticks\":\"\"},\"colorscale\":[[0.0,\"#0d0887\"],[0.1111111111111111,\"#46039f\"],[0.2222222222222222,\"#7201a8\"],[0.3333333333333333,\"#9c179e\"],[0.4444444444444444,\"#bd3786\"],[0.5555555555555556,\"#d8576b\"],[0.6666666666666666,\"#ed7953\"],[0.7777777777777778,\"#fb9f3a\"],[0.8888888888888888,\"#fdca26\"],[1.0,\"#f0f921\"]],\"type\":\"histogram2dcontour\"}],\"mesh3d\":[{\"colorbar\":{\"outlinewidth\":0,\"ticks\":\"\"},\"type\":\"mesh3d\"}],\"parcoords\":[{\"line\":{\"colorbar\":{\"outlinewidth\":0,\"ticks\":\"\"}},\"type\":\"parcoords\"}],\"pie\":[{\"automargin\":true,\"type\":\"pie\"}],\"scatter\":[{\"marker\":{\"colorbar\":{\"outlinewidth\":0,\"ticks\":\"\"}},\"type\":\"scatter\"}],\"scatter3d\":[{\"line\":{\"colorbar\":{\"outlinewidth\":0,\"ticks\":\"\"}},\"marker\":{\"colorbar\":{\"outlinewidth\":0,\"ticks\":\"\"}},\"type\":\"scatter3d\"}],\"scattercarpet\":[{\"marker\":{\"colorbar\":{\"outlinewidth\":0,\"ticks\":\"\"}},\"type\":\"scattercarpet\"}],\"scattergeo\":[{\"marker\":{\"colorbar\":{\"outlinewidth\":0,\"ticks\":\"\"}},\"type\":\"scattergeo\"}],\"scattergl\":[{\"marker\":{\"colorbar\":{\"outlinewidth\":0,\"ticks\":\"\"}},\"type\":\"scattergl\"}],\"scattermapbox\":[{\"marker\":{\"colorbar\":{\"outlinewidth\":0,\"ticks\":\"\"}},\"type\":\"scattermapbox\"}],\"scatterpolar\":[{\"marker\":{\"colorbar\":{\"outlinewidth\":0,\"ticks\":\"\"}},\"type\":\"scatterpolar\"}],\"scatterpolargl\":[{\"marker\":{\"colorbar\":{\"outlinewidth\":0,\"ticks\":\"\"}},\"type\":\"scatterpolargl\"}],\"scatterternary\":[{\"marker\":{\"colorbar\":{\"outlinewidth\":0,\"ticks\":\"\"}},\"type\":\"scatterternary\"}],\"surface\":[{\"colorbar\":{\"outlinewidth\":0,\"ticks\":\"\"},\"colorscale\":[[0.0,\"#0d0887\"],[0.1111111111111111,\"#46039f\"],[0.2222222222222222,\"#7201a8\"],[0.3333333333333333,\"#9c179e\"],[0.4444444444444444,\"#bd3786\"],[0.5555555555555556,\"#d8576b\"],[0.6666666666666666,\"#ed7953\"],[0.7777777777777778,\"#fb9f3a\"],[0.8888888888888888,\"#fdca26\"],[1.0,\"#f0f921\"]],\"type\":\"surface\"}],\"table\":[{\"cells\":{\"fill\":{\"color\":\"#EBF0F8\"},\"line\":{\"color\":\"white\"}},\"header\":{\"fill\":{\"color\":\"#C8D4E3\"},\"line\":{\"color\":\"white\"}},\"type\":\"table\"}]},\"layout\":{\"annotationdefaults\":{\"arrowcolor\":\"#2a3f5f\",\"arrowhead\":0,\"arrowwidth\":1},\"autotypenumbers\":\"strict\",\"coloraxis\":{\"colorbar\":{\"outlinewidth\":0,\"ticks\":\"\"}},\"colorscale\":{\"diverging\":[[0,\"#8e0152\"],[0.1,\"#c51b7d\"],[0.2,\"#de77ae\"],[0.3,\"#f1b6da\"],[0.4,\"#fde0ef\"],[0.5,\"#f7f7f7\"],[0.6,\"#e6f5d0\"],[0.7,\"#b8e186\"],[0.8,\"#7fbc41\"],[0.9,\"#4d9221\"],[1,\"#276419\"]],\"sequential\":[[0.0,\"#0d0887\"],[0.1111111111111111,\"#46039f\"],[0.2222222222222222,\"#7201a8\"],[0.3333333333333333,\"#9c179e\"],[0.4444444444444444,\"#bd3786\"],[0.5555555555555556,\"#d8576b\"],[0.6666666666666666,\"#ed7953\"],[0.7777777777777778,\"#fb9f3a\"],[0.8888888888888888,\"#fdca26\"],[1.0,\"#f0f921\"]],\"sequentialminus\":[[0.0,\"#0d0887\"],[0.1111111111111111,\"#46039f\"],[0.2222222222222222,\"#7201a8\"],[0.3333333333333333,\"#9c179e\"],[0.4444444444444444,\"#bd3786\"],[0.5555555555555556,\"#d8576b\"],[0.6666666666666666,\"#ed7953\"],[0.7777777777777778,\"#fb9f3a\"],[0.8888888888888888,\"#fdca26\"],[1.0,\"#f0f921\"]]},\"colorway\":[\"#636efa\",\"#EF553B\",\"#00cc96\",\"#ab63fa\",\"#FFA15A\",\"#19d3f3\",\"#FF6692\",\"#B6E880\",\"#FF97FF\",\"#FECB52\"],\"font\":{\"color\":\"#2a3f5f\"},\"geo\":{\"bgcolor\":\"white\",\"lakecolor\":\"white\",\"landcolor\":\"#E5ECF6\",\"showlakes\":true,\"showland\":true,\"subunitcolor\":\"white\"},\"hoverlabel\":{\"align\":\"left\"},\"hovermode\":\"closest\",\"mapbox\":{\"style\":\"light\"},\"paper_bgcolor\":\"white\",\"plot_bgcolor\":\"#E5ECF6\",\"polar\":{\"angularaxis\":{\"gridcolor\":\"white\",\"linecolor\":\"white\",\"ticks\":\"\"},\"bgcolor\":\"#E5ECF6\",\"radialaxis\":{\"gridcolor\":\"white\",\"linecolor\":\"white\",\"ticks\":\"\"}},\"scene\":{\"xaxis\":{\"backgroundcolor\":\"#E5ECF6\",\"gridcolor\":\"white\",\"gridwidth\":2,\"linecolor\":\"white\",\"showbackground\":true,\"ticks\":\"\",\"zerolinecolor\":\"white\"},\"yaxis\":{\"backgroundcolor\":\"#E5ECF6\",\"gridcolor\":\"white\",\"gridwidth\":2,\"linecolor\":\"white\",\"showbackground\":true,\"ticks\":\"\",\"zerolinecolor\":\"white\"},\"zaxis\":{\"backgroundcolor\":\"#E5ECF6\",\"gridcolor\":\"white\",\"gridwidth\":2,\"linecolor\":\"white\",\"showbackground\":true,\"ticks\":\"\",\"zerolinecolor\":\"white\"}},\"shapedefaults\":{\"line\":{\"color\":\"#2a3f5f\"}},\"ternary\":{\"aaxis\":{\"gridcolor\":\"white\",\"linecolor\":\"white\",\"ticks\":\"\"},\"baxis\":{\"gridcolor\":\"white\",\"linecolor\":\"white\",\"ticks\":\"\"},\"bgcolor\":\"#E5ECF6\",\"caxis\":{\"gridcolor\":\"white\",\"linecolor\":\"white\",\"ticks\":\"\"}},\"title\":{\"x\":0.05},\"xaxis\":{\"automargin\":true,\"gridcolor\":\"white\",\"linecolor\":\"white\",\"ticks\":\"\",\"title\":{\"standoff\":15},\"zerolinecolor\":\"white\",\"zerolinewidth\":2},\"yaxis\":{\"automargin\":true,\"gridcolor\":\"white\",\"linecolor\":\"white\",\"ticks\":\"\",\"title\":{\"standoff\":15},\"zerolinecolor\":\"white\",\"zerolinewidth\":2}}}},                        {\"responsive\": true}                    ).then(function(){\n",
              "                            \n",
              "var gd = document.getElementById('c8696883-38e4-4b86-addd-596bdfc3de91');\n",
              "var x = new MutationObserver(function (mutations, observer) {{\n",
              "        var display = window.getComputedStyle(gd).display;\n",
              "        if (!display || display === 'none') {{\n",
              "            console.log([gd, 'removed!']);\n",
              "            Plotly.purge(gd);\n",
              "            observer.disconnect();\n",
              "        }}\n",
              "}});\n",
              "\n",
              "// Listen for the removal of the full notebook cells\n",
              "var notebookContainer = gd.closest('#notebook-container');\n",
              "if (notebookContainer) {{\n",
              "    x.observe(notebookContainer, {childList: true});\n",
              "}}\n",
              "\n",
              "// Listen for the clearing of the current output cell\n",
              "var outputEl = gd.closest('.output');\n",
              "if (outputEl) {{\n",
              "    x.observe(outputEl, {childList: true});\n",
              "}}\n",
              "\n",
              "                        })                };                            </script>        </div>\n",
              "</body>\n",
              "</html>"
            ]
          },
          "metadata": {}
        }
      ],
      "source": [
        "\n",
        "\n",
        "\n",
        "z = data[:, 2]\n",
        "x, y = data[:,0], data[:,1]\n",
        "fig = go.Figure(data=[go.Scatter3d(x=x, y=y, z=z,\n",
        "                                   mode='markers', marker=dict(\n",
        "        size=4,\n",
        "        color=z,                # set color to an array/list of desired values\n",
        "        colorscale='Viridis',   # choose a colorscale\n",
        "        opacity=0.8\n",
        "    ))])\n",
        "fig.show()"
      ]
    },
    {
      "cell_type": "code",
      "execution_count": 13,
      "metadata": {
        "colab": {
          "base_uri": "https://localhost:8080/"
        },
        "id": "Ony4wP936qeS",
        "outputId": "b08089f9-526d-43fe-9120-c3cb29cb0d4f"
      },
      "outputs": [
        {
          "output_type": "stream",
          "name": "stdout",
          "text": [
            "[Epoch: 0/500] [objective: 2.161]\n",
            "[Epoch: 20/500] [objective: -3.234]\n",
            "[Epoch: 40/500] [objective: -3.997]\n",
            "[Epoch: 60/500] [objective: -4.538]\n",
            "[Epoch: 80/500] [objective: -4.893]\n",
            "[Epoch: 100/500] [objective: -4.689]\n",
            "[Epoch: 120/500] [objective: -5.024]\n",
            "[Epoch: 140/500] [objective: -4.122]\n",
            "[Epoch: 160/500] [objective: -3.447]\n",
            "[Epoch: 180/500] [objective: -2.999]\n",
            "[Epoch: 200/500] [objective: -2.927]\n",
            "[Epoch: 220/500] [objective: -2.992]\n",
            "[Epoch: 240/500] [objective: -3.104]\n",
            "[Epoch: 260/500] [objective: -2.777]\n",
            "[Epoch: 280/500] [objective: -3.224]\n",
            "[Epoch: 300/500] [objective: -2.847]\n",
            "[Epoch: 320/500] [objective: -2.790]\n",
            "[Epoch: 340/500] [objective: -3.051]\n",
            "[Epoch: 360/500] [objective: -3.059]\n",
            "[Epoch: 380/500] [objective: -3.067]\n",
            "[Epoch: 400/500] [objective: -3.031]\n",
            "[Epoch: 420/500] [objective: -3.041]\n",
            "[Epoch: 440/500] [objective: -2.977]\n",
            "[Epoch: 460/500] [objective: -3.028]\n",
            "[Epoch: 480/500] [objective: -3.268]\n"
          ]
        }
      ],
      "source": [
        "d = 2  # The latent space dimension\n",
        "N_data, D = data.shape\n",
        "activFunName = 'softplus'  # tanh used in the synthetics\n",
        "activations_list = {\n",
        "    'softplus': torch.nn.Softplus(),\n",
        "    'tanh': torch.nn.Tanh()\n",
        "}\n",
        "activFun = activations_list[activFunName]\n",
        "H = 32\n",
        "lambda_reg = 1e-8  # For the weights of the networks\n",
        "epochs = 500\n",
        "learning_rate = 1e-3  # 0.0001 works for MNIST and 0.1 for the synthetic\n",
        "clipping_value = 1\n",
        "batch_size = 128\n",
        "warmup = int(0.35 * epochs)\n",
        "\n",
        "# Use PCA to get the linear extrapolation\n",
        "A_gen, L_gen, b_gen = utils.my_pca(data, d)\n",
        "A_gen = A_gen @ np.diag(np.sqrt(L_gen))  # Project based on Probabilistic PCA: N(0, 1) -> data\n",
        "\n",
        "# Construct the VAE\n",
        "VAE_model = generative_models.VariationalAutoEncoder_GELS(D=D, d=d, H=H, activFun=activFun, A_init=A_gen, b_init=b_gen)\n",
        "VAE_optimizer = torch.optim.Adam(VAE_model.parameters(), lr=learning_rate)\n",
        "\n",
        "# Train the VAE\n",
        "ELBO = np.zeros((epochs, 1))\n",
        "for epoch in range(epochs):\n",
        "    # Permute the indices of the train data\n",
        "    permutation = np.random.permutation(N_data)\n",
        "\n",
        "    # Initialize the losses\n",
        "    train_loss = 0\n",
        "    train_loss_num = 0\n",
        "\n",
        "    # Train for all the batches\n",
        "    for i in range(0, N_data, batch_size):\n",
        "        indices = permutation[i:i + batch_size]\n",
        "        X_batch = torch.from_numpy(data[indices, :].astype(np.float32)) # batch_indices x D\n",
        "\n",
        "        # The VAE\n",
        "        MU_X_eval, LOG_VAR_X_eval, Z_ENC_eval, MU_Z_eval, LOG_VAR_Z_eval = VAE_model(X_batch)\n",
        "\n",
        "        # Compute the regularization parameter\n",
        "        if warmup == 0:\n",
        "            r = 0\n",
        "        else:\n",
        "            r = 1. * epoch / warmup\n",
        "            if r > 1.:\n",
        "                r = 1.\n",
        "\n",
        "        loss = generative_models.VAE_loss_GELS(x=X_batch, mu_x=MU_X_eval, log_var_x=LOG_VAR_X_eval,\n",
        "                                               mu_z=MU_Z_eval, log_var_z=LOG_VAR_Z_eval, anneal_param=r)\n",
        "\n",
        "        # Update the parameters\n",
        "        VAE_optimizer.zero_grad()\n",
        "        loss.backward()\n",
        "        # torch.nn.utils.clip_grad_norm_(model.parameters(), clipping_value)\n",
        "        VAE_optimizer.step()\n",
        "\n",
        "        # Collect the ways\n",
        "        train_loss += loss.item()\n",
        "        train_loss_num += 1\n",
        "\n",
        "    ELBO[epoch] = train_loss / train_loss_num\n",
        "\n",
        "    if epoch % 20 == 0:\n",
        "        print(\"[Epoch: {}/{}] [objective: {:.3f}]\".format(epoch, epochs, ELBO[epoch, 0]))\n",
        "\n",
        "ELBO_train = ELBO[epoch, 0].round(2)  # THe final training ELBO\n",
        "\n"
      ]
    },
    {
      "cell_type": "code",
      "execution_count": 14,
      "metadata": {
        "id": "B-IlhPPf5BFu"
      },
      "outputs": [],
      "source": [
        "with torch.no_grad():\n",
        "    MU_X_data, LOG_VAR_X_data, _, MU_Z_data, LOG_VAR_Z_data = VAE_model(torch.from_numpy(data.astype(np.float32)))\n",
        "    MU_X_data = MU_X_data.detach().numpy()\n",
        "    VAR_X_data = LOG_VAR_X_data.exp().detach().numpy()\n",
        "    MU_Z_data = MU_Z_data.detach().numpy()\n",
        "    VAR_Z_data = LOG_VAR_Z_data.exp().detach().numpy()\n"
      ]
    },
    {
      "cell_type": "code",
      "execution_count": 15,
      "metadata": {
        "colab": {
          "base_uri": "https://localhost:8080/",
          "height": 299
        },
        "id": "7m7lKJtk4Or_",
        "outputId": "c42d3a8c-2fca-4e47-9156-73862378d87b"
      },
      "outputs": [
        {
          "output_type": "execute_result",
          "data": {
            "text/plain": [
              "Text(0.5, 1.0, 'Latent space')"
            ]
          },
          "metadata": {},
          "execution_count": 15
        },
        {
          "output_type": "display_data",
          "data": {
            "text/plain": [
              "<Figure size 432x288 with 1 Axes>"
            ],
            "image/png": "[encoded data removed]"
          },
          "metadata": {
            "needs_background": "light"
          }
        }
      ],
      "source": [
        "plt.figure()\n",
        "plt.scatter(MU_Z_data[:, 0], MU_Z_data[:, 1], c='k', s=15)\n",
        "plt.title('Latent space')\n",
        "\n",
        "#plt.scatter(data[medioid_indices,0], data[medioid_indices,1], marker = '*', label = 'centroids' , s = 200)"
      ]
    },
    {
      "cell_type": "code",
      "execution_count": 15,
      "metadata": {
        "id": "qTY5rXpL_2Ef"
      },
      "outputs": [],
      "source": []
    },
    {
      "cell_type": "code",
      "execution_count": 16,
      "metadata": {
        "id": "LIXtdK-MAJZc"
      },
      "outputs": [],
      "source": [
        "#plt.figure()\n",
        "#plt.scatter(MU_Z_data1[:, 0], MU_Z_data1[:, 1], c='k', s=15)\n",
        "#plt.title('Latent space')"
      ]
    },
    {
      "cell_type": "code",
      "execution_count": 16,
      "metadata": {
        "id": "pJJmtEYv_meo"
      },
      "outputs": [],
      "source": []
    },
    {
      "cell_type": "code",
      "execution_count": 16,
      "metadata": {
        "id": "huN8uaQd_IX1"
      },
      "outputs": [],
      "source": []
    },
    {
      "cell_type": "code",
      "execution_count": 17,
      "metadata": {
        "id": "ItM9-6j0727S"
      },
      "outputs": [],
      "source": [
        "# Construct a Riemannian metric from the data\n",
        "manifold = manifolds.LocalDiagPCA(data=MU_Z_data, sigma=0.15, rho=1e-3)"
      ]
    },
    {
      "cell_type": "code",
      "execution_count": 18,
      "metadata": {
        "colab": {
          "base_uri": "https://localhost:8080/"
        },
        "id": "apMRkLDy8JF3",
        "outputId": "752950c4-4cfb-4830-96e1-467468506ee6"
      },
      "outputs": [
        {
          "output_type": "stream",
          "name": "stdout",
          "text": [
            "Kernel type has not been specified (default: Squared Exponential).\n",
            "\n",
            "[Initialize Graph] [Processed point: 0/50]\n"
          ]
        }
      ],
      "source": [
        "# Initialize the geodesic solvers\n",
        "solver_bvp = geodesics.SolverBVP(NMax=100, tol=1e-1)\n",
        "solver_fp = geodesics.SolverFP(D=2, N=10, tol=1e-1)\n",
        "N_nodes = 50\n",
        "solver_graph = geodesics.SolverGraph(manifold, data=KMeans(n_clusters=N_nodes, n_init=50, max_iter=100).fit(MU_Z_data).cluster_centers_,\n",
        "                                     kNN_num=int(np.log(N_nodes)), tol=1e-2)\n",
        "solver_comb = geodesics.SolverComb(solver_1=solver_bvp, solver_2=solver_graph)"
      ]
    },
    {
      "cell_type": "code",
      "execution_count": 19,
      "metadata": {
        "colab": {
          "base_uri": "https://localhost:8080/"
        },
        "id": "LR0nUPrmtFbf",
        "outputId": "d7cb1369-b44b-4e0e-d5bc-766e2f681bca"
      },
      "outputs": [
        {
          "output_type": "execute_result",
          "data": {
            "text/plain": [
              "(2, 1)"
            ]
          },
          "metadata": {},
          "execution_count": 19
        }
      ],
      "source": [
        "utils.my_vector(MU_Z_data[0]).shape\n"
      ]
    },
    {
      "cell_type": "code",
      "execution_count": 20,
      "metadata": {
        "id": "uXgGMtVT78yN"
      },
      "outputs": [],
      "source": [
        "import sys"
      ]
    },
    {
      "cell_type": "code",
      "execution_count": 20,
      "metadata": {
        "id": "AJuX_pUN75ex"
      },
      "outputs": [],
      "source": []
    },
    {
      "cell_type": "code",
      "execution_count": 21,
      "metadata": {
        "id": "RIAUWvJn7Xz1"
      },
      "outputs": [],
      "source": [
        "\n",
        "def dist (c0,c1):\n",
        "\n",
        "    \n",
        "#     curve_comb, logmap_comb, curve_length_comb, failed_comb, solution_comb \\\n",
        "#                 = geodesics.compute_geodesic(solver_comb, manifold, c0, c1)\n",
        "#     curve_fp, logmap_fp, curve_length_fp, failed_fp, solution_fp \\\n",
        "#                 = geodesics.compute_geodesic(solver_fp, manifold, c0, c1)\n",
        "#     result = curve_length_fp\n",
        "    \n",
        "#     if (failed_fp):\n",
        "        curve_graph, logmap_graph, curve_length_graph, failed_graph, solution_graph \\\n",
        "                = geodesics.compute_geodesic(solver_graph, manifold, c0, c1)\n",
        "        \n",
        "        result = curve_length_graph\n",
        "        return result"
      ]
    },
    {
      "cell_type": "code",
      "execution_count": 21,
      "metadata": {
        "id": "k5s237pEtjuF"
      },
      "outputs": [],
      "source": []
    },
    {
      "cell_type": "code",
      "execution_count": 21,
      "metadata": {
        "id": "DVVTDs_rtkfA"
      },
      "outputs": [],
      "source": []
    },
    {
      "cell_type": "code",
      "execution_count": 21,
      "metadata": {
        "id": "ldyXbRewtkhk"
      },
      "outputs": [],
      "source": []
    },
    {
      "cell_type": "code",
      "execution_count": 22,
      "metadata": {
        "id": "9-ImPQ8On3_p"
      },
      "outputs": [],
      "source": [
        "\n",
        "def compute_distances(MU_Z_data):\n",
        "\n",
        "  distances = np.zeros ((MU_Z_data.shape[0],MU_Z_data.shape[0]))\n",
        "  for i in tqdm(range(distances.shape[0])):\n",
        "      c0 = utils.my_vector(MU_Z_data[i])\n",
        "      print(i)\n",
        "      for j in range (i+1,distances.shape[0]) :\n",
        "  #         print(j)\n",
        "          c1 = utils.my_vector(MU_Z_data [j])\n",
        "          distances[i,j] = dist (c0,c1)\n",
        "  return distances"
      ]
    },
    {
      "cell_type": "code",
      "execution_count": 23,
      "metadata": {
        "id": "eCX0V5RL61M9"
      },
      "outputs": [],
      "source": [
        "#distances_ = compute_distances(MU_Z_data)"
      ]
    },
    {
      "cell_type": "code",
      "execution_count": 23,
      "metadata": {
        "id": "qFD-c0a961RG"
      },
      "outputs": [],
      "source": []
    },
    {
      "cell_type": "code",
      "execution_count": 23,
      "metadata": {
        "id": "jsppcceD61Tt"
      },
      "outputs": [],
      "source": []
    },
    {
      "cell_type": "code",
      "execution_count": 25,
      "metadata": {
        "id": "RuQEXPRdoNuw"
      },
      "outputs": [],
      "source": [
        "distances = compute_distances(MU_Z_data)"
      ]
    },
    {
      "cell_type": "code",
      "execution_count": null,
      "metadata": {
        "id": "MMXthVtX7xJI"
      },
      "outputs": [],
      "source": []
    },
    {
      "cell_type": "code",
      "execution_count": null,
      "metadata": {
        "id": "WyjOKp2Z8TXp"
      },
      "outputs": [],
      "source": [
        "affinity = distances + distances.T"
      ]
    },
    {
      "cell_type": "code",
      "execution_count": null,
      "metadata": {
        "colab": {
          "base_uri": "https://localhost:8080/"
        },
        "id": "j9FKWMDyDsYr",
        "outputId": "acd56281-95a5-4d49-f4ab-46f344722fce"
      },
      "outputs": [
        {
          "data": {
            "text/plain": [
              "(200, 200)"
            ]
          },
          "execution_count": 215,
          "metadata": {},
          "output_type": "execute_result"
        }
      ],
      "source": [
        "affinity.shape"
      ]
    },
    {
      "cell_type": "code",
      "execution_count": null,
      "metadata": {
        "id": "4vsenwEO9xwH"
      },
      "outputs": [],
      "source": []
    },
    {
      "cell_type": "code",
      "execution_count": null,
      "metadata": {
        "id": "9jN2eBWw8mph"
      },
      "outputs": [],
      "source": [
        "def apply_kmedioids (data, metric = 'euclidean',affinity = None ):\n",
        "    \n",
        "    if (metric == 'euclidean'):\n",
        "        kmedio =  KMedoids(n_clusters=2)\n",
        "        kmedio.fit(data)\n",
        "\n",
        "\n",
        "# labels \n",
        "        label = kmedio.labels_\n",
        "\n",
        "# plot\n",
        "        c = ['b','y']\n",
        "        for l in np.unique(label):\n",
        "            plt.scatter(data[label == l][:,0], data[label == l][:,1], label = str(l))\n",
        "\n",
        "        plt.scatter(kmedio.cluster_centers_[:,0], kmedio.cluster_centers_[:,1], marker = '*', label = 'centroids' , s = 200)\n",
        "\n",
        "        plt.legend()\n",
        "        \n",
        "    else : \n",
        "        kmedio_rienman =  KMedoids(n_clusters=2,max_iter = 100000, metric = 'precomputed' )\n",
        "        kmedio_rienman.fit(affinity)\n",
        "\n",
        "\n",
        "# labels \n",
        "        label = kmedio_rienman.labels_\n",
        "\n",
        "# plot\n",
        "        c = ['b','y']\n",
        "        for l in np.unique(label):\n",
        "            plt.scatter(data[label == l][:,0], data[label == l][:,1], label = str(l))\n",
        "\n",
        "        medioid_indices = kmedio_rienman.medoid_indices_\n",
        "\n",
        "        plt.scatter(data[medioid_indices,0], data[medioid_indices,1], marker = '*', label = 'centroids' , s = 200)\n",
        "\n",
        "        plt.legend()\n",
        "    return label \n",
        "        "
      ]
    },
    {
      "cell_type": "code",
      "execution_count": null,
      "metadata": {
        "id": "JnGqLpVGPCwG"
      },
      "outputs": [],
      "source": []
    },
    {
      "cell_type": "code",
      "execution_count": null,
      "metadata": {
        "colab": {
          "base_uri": "https://localhost:8080/",
          "height": 371
        },
        "id": "s2DGurn1-aqa",
        "outputId": "69edc875-0d27-4b6c-e685-81ef7558e9a8"
      },
      "outputs": [
        {
          "name": "stderr",
          "output_type": "stream",
          "text": [
            "/usr/local/lib/python3.8/dist-packages/sklearn_extra/cluster/_k_medoids.py:243: ConvergenceWarning:\n",
            "\n",
            "Maximum number of iteration reached before convergence. Consider increasing max_iter to improve the fit.\n",
            "\n"
          ]
        },
        {
          "data": {
            "text/plain": [
              "Text(0.5, 1.0, 'Riemannian kmediods $\\\\sigma = $2.2')"
            ]
          },
          "execution_count": 160,
          "metadata": {},
          "output_type": "execute_result"
        },
        {
          "data": {
            "image/png": "[encoded data removed]",
            "text/plain": [
              "<Figure size 432x288 with 1 Axes>"
            ]
          },
          "metadata": {},
          "output_type": "display_data"
        }
      ],
      "source": [
        "sigma = 1.9\n",
        "#plt.figure()\n",
        "affinity_kernel = np.exp (- affinity / sigma**2)\n",
        "predicted_labels = apply_kmedioids (MU_Z_data, metric = 'Riemann', affinity = affinity_kernel)\n",
        "#fscore.append(max (fbeta_score(labels ,predicted_labels,  beta = 1), fbeta_score(labels ,1 - predicted_labels,  beta = 1))) \n",
        "#mutual_info.append (mutual_info_score(labels.squeeze() ,predicted_labels))\n",
        "plt.title (r'Riemannian kmediods $\\sigma = ${}'.format (sigma))"
      ]
    },
    {
      "cell_type": "code",
      "execution_count": null,
      "metadata": {
        "id": "qMC-duTmye8L"
      },
      "outputs": [],
      "source": []
    },
    {
      "cell_type": "code",
      "execution_count": null,
      "metadata": {
        "colab": {
          "base_uri": "https://localhost:8080/",
          "height": 299
        },
        "id": "RMSekQ2FyfEw",
        "outputId": "c8a3e690-a076-4755-dfe9-7335de38d598"
      },
      "outputs": [
        {
          "data": {
            "text/plain": [
              "Text(0.5, 1.0, 'kmediods Euclidean distance')"
            ]
          },
          "execution_count": 161,
          "metadata": {},
          "output_type": "execute_result"
        },
        {
          "data": {
            "image/png": "[encoded data removed]",
            "text/plain": [
              "<Figure size 432x288 with 1 Axes>"
            ]
          },
          "metadata": {},
          "output_type": "display_data"
        }
      ],
      "source": [
        "### kmedioids \n",
        "\n",
        "predicted_labels = apply_kmedioids (MU_Z_data, metric = 'euclidean')\n",
        "plt.title ('kmediods Euclidean distance')"
      ]
    },
    {
      "cell_type": "code",
      "execution_count": null,
      "metadata": {
        "id": "BZFoXjimzMSc"
      },
      "outputs": [],
      "source": []
    },
    {
      "cell_type": "code",
      "execution_count": 26,
      "metadata": {
        "id": "MBPMmcTjzMVG"
      },
      "outputs": [],
      "source": [
        "def compare_affinity (range_sigma, affinity):\n",
        "    plt.figure(figsize =(10,10))\n",
        "    for i,sigma in enumerate(range_sigma):\n",
        "        plt.subplot(2,3, i+1)\n",
        "        affinity_kernel = np.exp (- affinity / sigma**2)\n",
        "        plt.imshow (affinity_kernel)\n",
        "        plt.title (r'affinity matrix $\\sigma = {}$'.format (sigma))"
      ]
    },
    {
      "cell_type": "code",
      "execution_count": null,
      "metadata": {
        "id": "tDyPkB7zyfHV"
      },
      "outputs": [],
      "source": [
        "compare_affinity([0.1,0.8,1.2,1.8,2.5,10], affinity)"
      ]
    },
    {
      "cell_type": "code",
      "execution_count": null,
      "metadata": {
        "id": "X7rKVHjuyfKI"
      },
      "outputs": [],
      "source": []
    },
    {
      "cell_type": "code",
      "execution_count": null,
      "metadata": {
        "id": "ScqHvOdCyfMV"
      },
      "outputs": [],
      "source": []
    },
    {
      "cell_type": "code",
      "execution_count": null,
      "metadata": {
        "id": "Q9KlCu_-yfOn"
      },
      "outputs": [],
      "source": []
    },
    {
      "cell_type": "code",
      "execution_count": null,
      "metadata": {
        "id": "LH9htXIq9DIb"
      },
      "outputs": [],
      "source": []
    },
    {
      "cell_type": "code",
      "execution_count": null,
      "metadata": {
        "id": "nJy2l30DNZjD"
      },
      "outputs": [],
      "source": []
    },
    {
      "cell_type": "code",
      "execution_count": null,
      "metadata": {
        "id": "DVmt-hMn9FdZ"
      },
      "outputs": [],
      "source": []
    },
    {
      "cell_type": "code",
      "execution_count": null,
      "metadata": {
        "id": "xjduR0_6DL5I"
      },
      "outputs": [],
      "source": []
    }
  ],
  "metadata": {
    "accelerator": "GPU",
    "colab": {
      "provenance": []
    },
    "gpuClass": "standard",
    "kernelspec": {
      "display_name": "Python 3",
      "name": "python3"
    },
    "language_info": {
      "name": "python"
    }
  },
  "nbformat": 4,
  "nbformat_minor": 0
}